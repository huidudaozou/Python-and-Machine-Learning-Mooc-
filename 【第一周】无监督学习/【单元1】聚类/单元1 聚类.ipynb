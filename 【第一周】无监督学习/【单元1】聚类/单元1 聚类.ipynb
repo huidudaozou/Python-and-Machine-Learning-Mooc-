{
 "cells": [
  {
   "cell_type": "markdown",
   "metadata": {},
   "source": [
    "## K-means应用"
   ]
  },
  {
   "cell_type": "markdown",
   "metadata": {},
   "source": [
    "### 建立工程导入sklearn包"
   ]
  },
  {
   "cell_type": "code",
   "execution_count": 1,
   "metadata": {},
   "outputs": [],
   "source": [
    "import numpy as np\n",
    "import pandas as pd\n",
    "from sklearn.cluster import KMeans"
   ]
  },
  {
   "cell_type": "markdown",
   "metadata": {},
   "source": [
    "### 加载数据"
   ]
  },
  {
   "cell_type": "markdown",
   "metadata": {},
   "source": [
    "#### 创建k-Means算法实例，并进行训练，获得标签"
   ]
  },
  {
   "cell_type": "code",
   "execution_count": 2,
   "metadata": {},
   "outputs": [],
   "source": [
    "# data\n",
    "raw_data = pd.read_csv('city.csv',sep=',',encoding = 'gb2312')\n",
    "data = raw_data[['指标1','指标2','指标3','指标4','指标5','指标6','指标7','指标8']]\n",
    "cityName = raw_data['地区']\n",
    "# model\n",
    "clf_km = KMeans(n_clusters=3)\n",
    "label = clf_km.fit_predict(data)\n",
    "expenses = np.sum(clf_km.cluster_centers_, axis=1)"
   ]
  },
  {
   "cell_type": "code",
   "execution_count": 3,
   "metadata": {},
   "outputs": [
    {
     "name": "stdout",
     "output_type": "stream",
     "text": [
      "Expenses:7754.66\n",
      "['北京', '上海', '广东']\n",
      "Expenses:3827.87\n",
      "['河北', '山西', '内蒙古', '辽宁', '吉林', '黑龙江', '安徽', '江西', '山东', '河南', '湖北', '贵州', '陕西', '甘肃', '青海', '宁夏', '新疆']\n",
      "Expenses:5113.54\n",
      "['天津', '江苏', '浙江', '福建', '湖南', '广西', '海南', '重庆', '四川', '云南', '西藏']\n"
     ]
    }
   ],
   "source": [
    "CityCluster = [[],[],[]]\n",
    "\n",
    "for i in range(len(cityName)):\n",
    "    CityCluster[label[i]].append(cityName[i])\n",
    "for i in range(len(CityCluster)):\n",
    "    print('Expenses:%.2f'%expenses[i])\n",
    "    print(CityCluster[i])"
   ]
  },
  {
   "cell_type": "markdown",
   "metadata": {},
   "source": [
    "## BDSCAN应用"
   ]
  },
  {
   "cell_type": "code",
   "execution_count": 1,
   "metadata": {},
   "outputs": [],
   "source": [
    "import numpy as np\n",
    "import sklearn.cluster as skc\n",
    "from sklearn import metrics\n",
    "import pylab as plt"
   ]
  },
  {
   "cell_type": "code",
   "execution_count": 2,
   "metadata": {},
   "outputs": [],
   "source": [
    "mac2id = dict()\n",
    "onlinetimes = []"
   ]
  },
  {
   "cell_type": "code",
   "execution_count": 3,
   "metadata": {},
   "outputs": [],
   "source": [
    "f = open('TestData.txt')\n",
    "for line in f:\n",
    "    mac = line.split(',')[2]\n",
    "    onlinetime = int(line.split(',')[6])\n",
    "    starttime = int(line.split(',')[4].split(' ')[1].split(':')[0])\n",
    "    if mac not in mac2id:\n",
    "        mac2id[mac] = len(onlinetimes)\n",
    "        onlinetimes.append((starttime,onlinetime))\n",
    "    else:\n",
    "        onlinetime[mac2id[mac]] = [(starttime,onlinetime)]\n",
    "real_X = np.array(onlinetimes).reshape((-1,2))"
   ]
  },
  {
   "cell_type": "code",
   "execution_count": 4,
   "metadata": {},
   "outputs": [
    {
     "data": {
      "text/plain": [
       "array([[    22,   1558],\n",
       "       [    12,  40261],\n",
       "       [    22,   1721],\n",
       "       [    23,    351],\n",
       "       [    16,  23564],\n",
       "       [    23,   1162],\n",
       "       [    22,   3540],\n",
       "       [    23,    641],\n",
       "       [    20,  10365],\n",
       "       [    19,  15906],\n",
       "       [    23,      6],\n",
       "       [    22,   4461],\n",
       "       [    23,    118],\n",
       "       [    23,    160],\n",
       "       [    21,   8156],\n",
       "       [    18,  17774],\n",
       "       [    16,  24332],\n",
       "       [    21,   6010],\n",
       "       [    18,  16480],\n",
       "       [    23,   1116],\n",
       "       [    23,    974],\n",
       "       [    17,  20232],\n",
       "       [    23,    649],\n",
       "       [    21,   5751],\n",
       "       [     8,  55244],\n",
       "       [    16,  25454],\n",
       "       [    23,     55],\n",
       "       [    23,     57],\n",
       "       [    20,  10887],\n",
       "       [    22,   3561],\n",
       "       [    20,  10499],\n",
       "       [    20,   9163],\n",
       "       [    15,  30190],\n",
       "       [    22,   3524],\n",
       "       [    23,      0],\n",
       "       [    22,   2935],\n",
       "       [    22,   4666],\n",
       "       [    22,   2405],\n",
       "       [    23,    861],\n",
       "       [    21,   6483],\n",
       "       [    15,  27275],\n",
       "       [    22,   4271],\n",
       "       [    23,    440],\n",
       "       [    23,    258],\n",
       "       [    22,   1663],\n",
       "       [    22,   2187],\n",
       "       [    20,  10972],\n",
       "       [    19,  14835],\n",
       "       [    23,    502],\n",
       "       [    21,   7033],\n",
       "       [    23,     34],\n",
       "       [    14,  33379],\n",
       "       [    21,   6411],\n",
       "       [    14,  31535],\n",
       "       [    21,   6124],\n",
       "       [    22,   2027],\n",
       "       [    23,    168],\n",
       "       [    23,   1136],\n",
       "       [    20,   9920],\n",
       "       [    21,   8484],\n",
       "       [    21,   7931],\n",
       "       [    10,  46898],\n",
       "       [    19,  15054],\n",
       "       [    18,  16808],\n",
       "       [    22,   2457],\n",
       "       [    23,    550],\n",
       "       [    20,  10786],\n",
       "       [    23,     77],\n",
       "       [    19,  15239],\n",
       "       [    21,   7722],\n",
       "       [    23,   1518],\n",
       "       [    23,    960],\n",
       "       [    20,  12406],\n",
       "       [    21,   6475],\n",
       "       [    22,   1792],\n",
       "       [    23,    580],\n",
       "       [    15,  28821],\n",
       "       [    20,     66],\n",
       "       [    22,   3785],\n",
       "       [    22,   4275],\n",
       "       [    21,   5737],\n",
       "       [    20,  10404],\n",
       "       [    22,   1799],\n",
       "       [    23,   1637],\n",
       "       [    12,  41226],\n",
       "       [    23,      0],\n",
       "       [    21,   6663],\n",
       "       [    18,  16914],\n",
       "       [     8,  53008],\n",
       "       [    20,   9958],\n",
       "       [     9,  48665],\n",
       "       [    15,  27516],\n",
       "       [    22,   3264],\n",
       "       [    10,  45557],\n",
       "       [    21,   3155],\n",
       "       [    17,  23180],\n",
       "       [    22,   2521],\n",
       "       [    20,   9152],\n",
       "       [    23,     12],\n",
       "       [    11,  42425],\n",
       "       [    16,  21660],\n",
       "       [    20,   8884],\n",
       "       [    23,   1360],\n",
       "       [    23,    736],\n",
       "       [    20,  11363],\n",
       "       [    22,   4363],\n",
       "       [    20,  10427],\n",
       "       [    23,   1059],\n",
       "       [    23,    822],\n",
       "       [    21,   7248],\n",
       "       [    21,   6853],\n",
       "       [    22,   2752],\n",
       "       [    23,      4],\n",
       "       [    20,   9751],\n",
       "       [    22,   2912],\n",
       "       [    23,    379],\n",
       "       [    22,   1716],\n",
       "       [    16,  24790],\n",
       "       [    23,   1016],\n",
       "       [    23,    219],\n",
       "       [    21,   6461],\n",
       "       [    15,  29089],\n",
       "       [    20,  12118],\n",
       "       [    23,    761],\n",
       "       [    21,   8960],\n",
       "       [    23,    241],\n",
       "       [    23,      1],\n",
       "       [    23,      6],\n",
       "       [    20,   9370],\n",
       "       [    10,  45716],\n",
       "       [     7,  56884],\n",
       "       [    18,  17840],\n",
       "       [    23,      9],\n",
       "       [    21,   5940],\n",
       "       [    12,  39458],\n",
       "       [    22,   2545],\n",
       "       [    23,    924],\n",
       "       [    22,   2759],\n",
       "       [    22,   1998],\n",
       "       [    23,    643],\n",
       "       [     5,  63730],\n",
       "       [    16,  24851],\n",
       "       [    19,  12766],\n",
       "       [    20,  12214],\n",
       "       [    20,  12165],\n",
       "       [    22,   1892],\n",
       "       [    23,    378],\n",
       "       [    23,     11],\n",
       "       [    21,   5575],\n",
       "       [    22,   4714],\n",
       "       [    22,   1751],\n",
       "       [    22,   3261],\n",
       "       [    23,   1190],\n",
       "       [     8,  11726],\n",
       "       [     8,  11505],\n",
       "       [    10,   3663],\n",
       "       [    10,   6179],\n",
       "       [    11,    239],\n",
       "       [    11,   1072],\n",
       "       [     8,  11065],\n",
       "       [     9,   9027],\n",
       "       [     8,  11954],\n",
       "       [     8,  11056],\n",
       "       [    11,    371],\n",
       "       [     8,  11722],\n",
       "       [    10,   4840],\n",
       "       [    23,    207],\n",
       "       [    20,   9875],\n",
       "       [    20,    566],\n",
       "       [    21,   5943],\n",
       "       [    22,   1796],\n",
       "       [    23,    274],\n",
       "       [    22,   3140],\n",
       "       [    14,  22640],\n",
       "       [    23,    300],\n",
       "       [    22,   2007],\n",
       "       [    22,   3494],\n",
       "       [    23,     35],\n",
       "       [     9,  51881],\n",
       "       [    17,  21136],\n",
       "       [    22,   4244],\n",
       "       [    20,   9729],\n",
       "       [    23,    574],\n",
       "       [    22,   4716],\n",
       "       [    20,   9742],\n",
       "       [    19,  15099],\n",
       "       [    23,    105],\n",
       "       [    23,     34],\n",
       "       [    13, 123518],\n",
       "       [    12,  38489],\n",
       "       [    22,   3697],\n",
       "       [    23,   1465],\n",
       "       [    23,   1115],\n",
       "       [    10,  48534],\n",
       "       [    21,   8835],\n",
       "       [    23,      0],\n",
       "       [    23,      8],\n",
       "       [    18,  18241],\n",
       "       [    23,   1268],\n",
       "       [    23,   1191],\n",
       "       [    22,   3632],\n",
       "       [    22,   4791],\n",
       "       [    18,  16487],\n",
       "       [    22,   5056],\n",
       "       [    10,  48396],\n",
       "       [    22,   5085],\n",
       "       [    22,   2401],\n",
       "       [    20,   9655],\n",
       "       [    18,  16932],\n",
       "       [    23,    793],\n",
       "       [    19,  12712],\n",
       "       [    23,      9],\n",
       "       [    22,   3424],\n",
       "       [    13,  36119],\n",
       "       [    20,  96562],\n",
       "       [    23,     74],\n",
       "       [    21,   8787],\n",
       "       [    23,   1031],\n",
       "       [    23,    654],\n",
       "       [    12,  40194],\n",
       "       [    23,    327],\n",
       "       [    22,   4741],\n",
       "       [    22,   2425],\n",
       "       [    13,  34779],\n",
       "       [    22,   2259],\n",
       "       [    22,    590],\n",
       "       [    21,   7990],\n",
       "       [    20,  11180],\n",
       "       [    22,   2949],\n",
       "       [    22,   3239],\n",
       "       [     7,  57031],\n",
       "       [    14,  33170],\n",
       "       [    21,   4919],\n",
       "       [    20,  10146],\n",
       "       [    16,  55495],\n",
       "       [     7,   1837],\n",
       "       [     8,    386],\n",
       "       [     8,     21],\n",
       "       [     8,     13],\n",
       "       [     5,   8419],\n",
       "       [     7,   2075],\n",
       "       [     7,   1940],\n",
       "       [    13,  69111],\n",
       "       [     8,     44],\n",
       "       [    22,  35149],\n",
       "       [     8,     17],\n",
       "       [     8,    305],\n",
       "       [     8,     11],\n",
       "       [     7,   2678],\n",
       "       [     8,    770],\n",
       "       [     8,    517],\n",
       "       [     7,    218],\n",
       "       [     7,    566],\n",
       "       [    22,  35478],\n",
       "       [     7,    878],\n",
       "       [     8,    203],\n",
       "       [     6,   7745],\n",
       "       [     8,     62],\n",
       "       [     7,   2181],\n",
       "       [     7,    807],\n",
       "       [     7,   1293],\n",
       "       [    23,  30437],\n",
       "       [     7,      6],\n",
       "       [     7,   4168],\n",
       "       [    22,  34938],\n",
       "       [     7,   1189],\n",
       "       [     8,     42],\n",
       "       [     8,     20],\n",
       "       [     0,  29130],\n",
       "       [     8,      6],\n",
       "       [     8,    823],\n",
       "       [     7,     50],\n",
       "       [     8,     34],\n",
       "       [    22,  33251],\n",
       "       [     7,    336],\n",
       "       [     8,    501],\n",
       "       [     2,  18534],\n",
       "       [    22,  33226],\n",
       "       [     7,   1875],\n",
       "       [     7,    300],\n",
       "       [     7,   3036],\n",
       "       [     6,   4170],\n",
       "       [     8,    322],\n",
       "       [     7,    710],\n",
       "       [     7,    306],\n",
       "       [     7,   1618],\n",
       "       [     7,   1746],\n",
       "       [     8,    540],\n",
       "       [     8,     20]])"
      ]
     },
     "execution_count": 4,
     "metadata": {},
     "output_type": "execute_result"
    }
   ],
   "source": [
    "real_X"
   ]
  },
  {
   "cell_type": "code",
   "execution_count": 5,
   "metadata": {},
   "outputs": [],
   "source": [
    "X = real_X[:,0:1] #开始上网时间\n",
    "db = skc.DBSCAN(eps=0.01,min_samples=20).fit(X)\n",
    "labels = db.labels_"
   ]
  },
  {
   "cell_type": "code",
   "execution_count": 6,
   "metadata": {},
   "outputs": [
    {
     "name": "stdout",
     "output_type": "stream",
     "text": [
      "Labels:\n",
      "[ 0 -1  0  1 -1  1  0  1  2 -1  1  0  1  1  3 -1 -1  3 -1  1  1 -1  1  3\n",
      "  4 -1  1  1  2  0  2  2 -1  0  1  0  0  0  1  3 -1  0  1  1  0  0  2 -1\n",
      "  1  3  1 -1  3 -1  3  0  1  1  2  3  3 -1 -1 -1  0  1  2  1 -1  3  1  1\n",
      "  2  3  0  1 -1  2  0  0  3  2  0  1 -1  1  3 -1  4  2 -1 -1  0 -1  3 -1\n",
      "  0  2  1 -1 -1  2  1  1  2  0  2  1  1  3  3  0  1  2  0  1  0 -1  1  1\n",
      "  3 -1  2  1  3  1  1  1  2 -1  5 -1  1  3 -1  0  1  0  0  1 -1 -1 -1  2\n",
      "  2  0  1  1  3  0  0  0  1  4  4 -1 -1 -1 -1  4 -1  4  4 -1  4 -1  1  2\n",
      "  2  3  0  1  0 -1  1  0  0  1 -1 -1  0  2  1  0  2 -1  1  1 -1 -1  0  1\n",
      "  1 -1  3  1  1 -1  1  1  0  0 -1  0 -1  0  0  2 -1  1 -1  1  0 -1  2  1\n",
      "  3  1  1 -1  1  0  0 -1  0  0  3  2  0  0  5 -1  3  2 -1  5  4  4  4 -1\n",
      "  5  5 -1  4  0  4  4  4  5  4  4  5  5  0  5  4 -1  4  5  5  5  1  5  5\n",
      "  0  5  4  4 -1  4  4  5  4  0  5  4 -1  0  5  5  5 -1  4  5  5  5  5  4\n",
      "  4]\n"
     ]
    }
   ],
   "source": [
    "print('Labels:')\n",
    "print(labels)"
   ]
  },
  {
   "cell_type": "code",
   "execution_count": 7,
   "metadata": {},
   "outputs": [
    {
     "name": "stdout",
     "output_type": "stream",
     "text": [
      "Noise ratio: 22.15%\n"
     ]
    }
   ],
   "source": [
    "ratio = len(labels[labels[:]==-1]) / len(labels)\n",
    "print(\"Noise ratio:\",format(ratio,'.2%'))"
   ]
  },
  {
   "cell_type": "code",
   "execution_count": 8,
   "metadata": {},
   "outputs": [
    {
     "name": "stdout",
     "output_type": "stream",
     "text": [
      "Estimated number of clusters : 6\n",
      "Silhouette Coefficient : 0.710\n"
     ]
    }
   ],
   "source": [
    "n_cluster_ = len(set(labels)) - (1 if -1 in labels else 0 )\n",
    "print('Estimated number of clusters : %d'%n_cluster_)\n",
    "print('Silhouette Coefficient : %0.3f'% metrics.silhouette_score(X,labels))"
   ]
  },
  {
   "cell_type": "code",
   "execution_count": 9,
   "metadata": {},
   "outputs": [
    {
     "name": "stdout",
     "output_type": "stream",
     "text": [
      "Cluster 0 :\n",
      "[22, 22, 22, 22, 22, 22, 22, 22, 22, 22, 22, 22, 22, 22, 22, 22, 22, 22, 22, 22, 22, 22, 22, 22, 22, 22, 22, 22, 22, 22, 22, 22, 22, 22, 22, 22, 22, 22, 22, 22, 22, 22, 22, 22, 22, 22, 22, 22, 22, 22, 22, 22, 22, 22, 22]\n",
      "Cluster 1 :\n",
      "[23, 23, 23, 23, 23, 23, 23, 23, 23, 23, 23, 23, 23, 23, 23, 23, 23, 23, 23, 23, 23, 23, 23, 23, 23, 23, 23, 23, 23, 23, 23, 23, 23, 23, 23, 23, 23, 23, 23, 23, 23, 23, 23, 23, 23, 23, 23, 23, 23, 23, 23, 23, 23, 23, 23, 23, 23, 23, 23, 23, 23, 23, 23, 23, 23]\n",
      "Cluster 2 :\n",
      "[20, 20, 20, 20, 20, 20, 20, 20, 20, 20, 20, 20, 20, 20, 20, 20, 20, 20, 20, 20, 20, 20, 20, 20, 20, 20, 20, 20]\n",
      "Cluster 3 :\n",
      "[21, 21, 21, 21, 21, 21, 21, 21, 21, 21, 21, 21, 21, 21, 21, 21, 21, 21, 21, 21, 21, 21, 21, 21, 21]\n",
      "Cluster 4 :\n",
      "[8, 8, 8, 8, 8, 8, 8, 8, 8, 8, 8, 8, 8, 8, 8, 8, 8, 8, 8, 8, 8, 8, 8, 8, 8, 8, 8, 8]\n",
      "Cluster 5 :\n",
      "[7, 7, 7, 7, 7, 7, 7, 7, 7, 7, 7, 7, 7, 7, 7, 7, 7, 7, 7, 7, 7, 7, 7, 7]\n"
     ]
    }
   ],
   "source": [
    "for i in range(n_cluster_):\n",
    "    print('Cluster',i,':')\n",
    "    print(list(X[labels == i].flatten()))"
   ]
  },
  {
   "cell_type": "code",
   "execution_count": 10,
   "metadata": {},
   "outputs": [
    {
     "data": {
      "text/plain": [
       "(array([ 1.,  0.,  1.,  0.,  0.,  2.,  2., 24., 28.,  3.,  8.,  4.,  5.,\n",
       "         4.,  4.,  5.,  7.,  3.,  8.,  7., 28., 25., 55., 65.]),\n",
       " array([ 0.        ,  0.95833333,  1.91666667,  2.875     ,  3.83333333,\n",
       "         4.79166667,  5.75      ,  6.70833333,  7.66666667,  8.625     ,\n",
       "         9.58333333, 10.54166667, 11.5       , 12.45833333, 13.41666667,\n",
       "        14.375     , 15.33333333, 16.29166667, 17.25      , 18.20833333,\n",
       "        19.16666667, 20.125     , 21.08333333, 22.04166667, 23.        ]),\n",
       " <a list of 24 Patch objects>)"
      ]
     },
     "execution_count": 10,
     "metadata": {},
     "output_type": "execute_result"
    },
    {
     "data": {
      "image/png": "[encoded data removed]",
      "text/plain": [
       "<Figure size 432x288 with 1 Axes>"
      ]
     },
     "metadata": {
      "needs_background": "light"
     },
     "output_type": "display_data"
    }
   ],
   "source": [
    "plt.hist(X,24)"
   ]
  },
  {
   "cell_type": "code",
   "execution_count": 11,
   "metadata": {},
   "outputs": [
    {
     "name": "stdout",
     "output_type": "stream",
     "text": [
      "Labels:\n",
      "[ 0  1  0  4  1  2  0  2  0  3 -1  0 -1 -1  0  3  1  0  3  2  2  1  2  0\n",
      "  1  1 -1 -1  0  0  0  0  1  0 -1  0  0  0  2  0  1  0 -1 -1  0  0  0  3\n",
      "  2  0 -1  1  0  1  0  0 -1  2  0  0  0  1  3  3  0  2  0 -1  3  0  0  2\n",
      "  0  0  0  2  1 -1  0  0  0  0  0  0  1 -1  0  3  1  0  1  1  0  1  0  1\n",
      "  0  0 -1  1  1  0  0  2  0  0  0  2  2  0  0  0 -1  0  0  4  0  1  2 -1\n",
      "  0  1  0  2  0 -1 -1 -1  0  1  1  3 -1  0  1  0  2  0  0  2  1  1  0  0\n",
      "  0  0  4 -1  0  0  0  0  2  0  0  0  0 -1  2  0  0  0  0  4  0  0 -1  0\n",
      "  2  0  0 -1  0  1  4  0  0 -1  1  1  0  0  2  0  0  3 -1 -1 -1  1  0  0\n",
      "  2  1  0 -1 -1  3  2  2  0  0  3  0  1  0  0  0  3  2  0 -1  0  1 -1 -1\n",
      "  0  2  2  1  4  0  0  1  0  2  0  0  0  0  1  1  0  0  1  0  4 -1 -1  0\n",
      "  0  0 -1 -1  1 -1  4 -1  0  2  2 -1  2  1  2 -1  0 -1  0  2  2  1 -1  0\n",
      "  1  2 -1 -1  1 -1  2 -1 -1  1  4  2  3  1  0  4  0  0  4  2  4  0  0  2\n",
      " -1]\n"
     ]
    }
   ],
   "source": [
    "X = np.log(1 + real_X[:,1:])\n",
    "db = skc.DBSCAN(eps=0.14,min_samples=10).fit(X)\n",
    "labels = db.labels_\n",
    "print('Labels:')\n",
    "print(labels)"
   ]
  },
  {
   "cell_type": "code",
   "execution_count": 12,
   "metadata": {},
   "outputs": [
    {
     "name": "stdout",
     "output_type": "stream",
     "text": [
      "Noise ratio: 16.96%\n"
     ]
    }
   ],
   "source": [
    "ratio = len(labels[labels[:]==-1]) / len(labels)\n",
    "print('Noise ratio:',format(ratio,'.2%'))"
   ]
  },
  {
   "cell_type": "code",
   "execution_count": 16,
   "metadata": {},
   "outputs": [
    {
     "name": "stdout",
     "output_type": "stream",
     "text": [
      "Estimated number of cluster: 5\n",
      "Silhouette coefficient :0.227\n"
     ]
    }
   ],
   "source": [
    "n_cluster_ = len(set(labels)) - (1 if -1 in labels else 0)\n",
    "print('Estimated number of cluster: %d'%n_cluster_)\n",
    "print('Silhouette coefficient :%0.3f'%metrics.silhouette_score\n",
    "     (X,labels))"
   ]
  },
  {
   "cell_type": "code",
   "execution_count": 17,
   "metadata": {},
   "outputs": [
    {
     "name": "stdout",
     "output_type": "stream",
     "text": [
      "cluster 0 :\n",
      "\t number of sample: 128\n",
      "\t mean of sample: 5864.3\n",
      "\t std of sample: 3498.1\n",
      "cluster 1 :\n",
      "\t number of sample: 46\n",
      "\t mean of sample: 36835.1\n",
      "\t std of sample: 11314.1\n",
      "cluster 2 :\n",
      "\t number of sample: 40\n",
      "\t mean of sample: 843.2\n",
      "\t std of sample: 242.9\n",
      "cluster 3 :\n",
      "\t number of sample: 14\n",
      "\t mean of sample: 16581.6\n",
      "\t std of sample: 1186.7\n",
      "cluster 4 :\n",
      "\t number of sample: 12\n",
      "\t mean of sample: 338.4\n",
      "\t std of sample: 31.9\n"
     ]
    }
   ],
   "source": [
    "for i in range(n_cluster_):\n",
    "    print('cluster',i,':')\n",
    "    count = len(X[labels==i])\n",
    "    mean = np.mean(real_X[labels==i][:,1])\n",
    "    std = np.std(real_X[labels==i][:,1])\n",
    "    print('\\t number of sample:',count)\n",
    "    print('\\t mean of sample:',format(mean,'.1f'))\n",
    "    print('\\t std of sample:',format(std,'.1f'))"
   ]
  },
  {
   "cell_type": "code",
   "execution_count": null,
   "metadata": {},
   "outputs": [],
   "source": []
  }
 ],
 "metadata": {
  "kernelspec": {
   "display_name": "Python 3",
   "language": "python",
   "name": "python3"
  },
  "language_info": {
   "codemirror_mode": {
    "name": "ipython",
    "version": 3
   },
   "file_extension": ".py",
   "mimetype": "text/x-python",
   "name": "python",
   "nbconvert_exporter": "python",
   "pygments_lexer": "ipython3",
   "version": "3.7.6"
  }
 },
 "nbformat": 4,
 "nbformat_minor": 4
}
